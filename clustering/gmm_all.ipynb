{
 "cells": [
  {
   "cell_type": "code",
   "execution_count": 79,
   "metadata": {},
   "outputs": [],
   "source": [
    "import pandas as pd\n",
    "import numpy as np\n",
    "import os\n",
    "import seaborn as sns\n",
    "import matplotlib.pyplot as plt\n",
    "from sklearn.preprocessing import MinMaxScaler\n",
    "from sklearn.cluster import KMeans, AffinityPropagation\n",
    "from sklearn.mixture import GaussianMixture\n",
    "import warnings"
   ]
  },
  {
   "cell_type": "code",
   "execution_count": 80,
   "metadata": {},
   "outputs": [
    {
     "data": {
      "text/plain": [
       "'/Users/ray/2021datathon/clustering'"
      ]
     },
     "execution_count": 80,
     "metadata": {},
     "output_type": "execute_result"
    }
   ],
   "source": [
    "pwd"
   ]
  },
  {
   "cell_type": "code",
   "execution_count": 81,
   "metadata": {},
   "outputs": [],
   "source": [
    "df_1 = pd.read_csv('../team_att_all_cleaned.csv')"
   ]
  },
  {
   "cell_type": "code",
   "execution_count": 82,
   "metadata": {},
   "outputs": [
    {
     "name": "stdout",
     "output_type": "stream",
     "text": [
      "['buildUpPlaySpeed', 'buildUpPlayPassing', 'chanceCreationPassing', 'chanceCreationCrossing', 'chanceCreationShooting', 'defencePressure', 'defenceAggression', 'defenceTeamWidth', 'buildUpPlayPositioningClass_Free Form', 'buildUpPlayPositioningClass_Organised', 'chanceCreationPositioningClass_Free Form', 'chanceCreationPositioningClass_Organised', 'defenceDefenderLineClass_Cover', 'defenceDefenderLineClass_Offside Trap', 'buildUpPlayDribbling', 'overall_rating', 'potential', 'crossing', 'finishing', 'heading_accuracy', 'short_passing', 'volleys', 'dribbling', 'curve', 'free_kick_accuracy', 'long_passing', 'ball_control', 'acceleration', 'sprint_speed', 'agility', 'reactions', 'balance', 'shot_power', 'jumping', 'stamina', 'strength', 'long_shots', 'aggression', 'interceptions', 'positioning', 'vision', 'penalties', 'marking', 'standing_tackle', 'sliding_tackle', 'gk_diving', 'gk_handling', 'gk_kicking', 'gk_positioning', 'gk_reflexes', 'preferred_foot_right', 'preferred_foot_left', 'attacking_work_rate_medium', 'attacking_work_rate_high', 'attacking_work_rate_low', 'defensive_work_rate_medium', 'defensive_work_rate_high', 'defensive_work_rate_low', 'height', 'weight']\n"
     ]
    }
   ],
   "source": [
    "id_fts = [\n",
    "    'team_id', # will be dropped during clustering\n",
    "    'date', # will be dropped during clustering\n",
    "    'next_date'\n",
    "]\n",
    "\n",
    "features = df_1.columns.values.tolist()\n",
    "for id_ft in id_fts:\n",
    "    features.remove(id_ft) \n",
    "\n",
    "print(features)"
   ]
  },
  {
   "cell_type": "code",
   "execution_count": 83,
   "metadata": {},
   "outputs": [],
   "source": [
    "df_1 = df_1[df_1['buildUpPlayDribbling'] != 0]\n",
    "df_2 = df_1.drop(['team_id', 'date', 'next_date'], axis = 1)"
   ]
  },
  {
   "cell_type": "code",
   "execution_count": 84,
   "metadata": {},
   "outputs": [
    {
     "data": {
      "text/plain": [
       "(931, 60)"
      ]
     },
     "execution_count": 84,
     "metadata": {},
     "output_type": "execute_result"
    }
   ],
   "source": [
    "# Normalization\n",
    "df_3 = pd.DataFrame(MinMaxScaler().fit_transform(df_2), columns=df_2.columns, index=df_2.index)\n",
    "df_3.shape"
   ]
  },
  {
   "cell_type": "code",
   "execution_count": 29,
   "metadata": {},
   "outputs": [],
   "source": [
    "Nc = range(1, 51)\n",
    "kmeans = [KMeans(n_clusters = n) for n in Nc]\n",
    "score = np.array([kmeans[i].fit(df_3).score(df_3) for i in range(len(kmeans))])"
   ]
  },
  {
   "cell_type": "code",
   "execution_count": 112,
   "metadata": {},
   "outputs": [],
   "source": [
    "Nc2 = range(1,31)\n",
    "gm = [GaussianMixture(n_components=n,covariance_type=\"tied\",random_state=42).fit(df_3) for n in Nc2]"
   ]
  },
  {
   "cell_type": "code",
   "execution_count": 113,
   "metadata": {},
   "outputs": [],
   "source": [
    "aic = np.array([gm[i].aic(df_3) for i in range(len(gm))])\n",
    "bic = np.array([gm[i].bic(df_3) for i in range(len(gm))])"
   ]
  },
  {
   "cell_type": "code",
   "execution_count": 114,
   "metadata": {},
   "outputs": [
    {
     "data": {
      "image/png": "[encoded data removed]",
      "text/plain": [
       "<Figure size 432x288 with 1 Axes>"
      ]
     },
     "metadata": {
      "needs_background": "light"
     },
     "output_type": "display_data"
    }
   ],
   "source": [
    "plt.plot(Nc2,aic,label='aic')\n",
    "plt.plot(Nc2,bic,label='bic')\n",
    "plt.legend(loc='best')\n",
    "plt.xlabel('Number of Clusters')\n",
    "plt.ylabel('Score')\n",
    "plt.title('Elbow Curve')\n",
    "plt.show()\n",
    "\n",
    "# from the graph, we need 10 clusters to describe team attributes.\n",
    "# TODO verify this result with other methods"
   ]
  },
  {
   "cell_type": "code",
   "execution_count": 20,
   "metadata": {},
   "outputs": [
    {
     "data": {
      "text/plain": [
       "6    125\n",
       "0    122\n",
       "7    118\n",
       "1    115\n",
       "3    114\n",
       "8     96\n",
       "4     93\n",
       "2     55\n",
       "9     49\n",
       "5     44\n",
       "Name: cluster, dtype: int64"
      ]
     },
     "execution_count": 20,
     "metadata": {},
     "output_type": "execute_result"
    }
   ],
   "source": [
    "kmeans = KMeans(n_clusters = 10)\n",
    "df_1['cluster'] = kmeans.fit_predict(df_2)\n",
    "df_1['cluster'].value_counts(dropna = False)"
   ]
  },
  {
   "cell_type": "code",
   "execution_count": 121,
   "metadata": {},
   "outputs": [
    {
     "data": {
      "text/plain": [
       "5    222\n",
       "4    184\n",
       "2    154\n",
       "0     76\n",
       "8     70\n",
       "3     65\n",
       "6     60\n",
       "1     57\n",
       "7     43\n",
       "Name: cluster, dtype: int64"
      ]
     },
     "execution_count": 121,
     "metadata": {},
     "output_type": "execute_result"
    }
   ],
   "source": [
    "gmm = GaussianMixture(n_components=9,covariance_type=\"tied\",random_state=42)\n",
    "df_1['cluster'] = gmm.fit_predict(df_2)\n",
    "df_1['cluster'].value_counts(dropna = False)"
   ]
  },
  {
   "cell_type": "code",
   "execution_count": 122,
   "metadata": {},
   "outputs": [],
   "source": [
    "df_1.to_csv(\"team_att_all_w_cluster_gmm9.csv\")"
   ]
  },
  {
   "cell_type": "code",
   "execution_count": null,
   "metadata": {},
   "outputs": [],
   "source": []
  }
 ],
 "metadata": {
  "kernelspec": {
   "display_name": "Python 3",
   "language": "python",
   "name": "python3"
  },
  "language_info": {
   "codemirror_mode": {
    "name": "ipython",
    "version": 3
   },
   "file_extension": ".py",
   "mimetype": "text/x-python",
   "name": "python",
   "nbconvert_exporter": "python",
   "pygments_lexer": "ipython3",
   "version": "3.8.0"
  }
 },
 "nbformat": 4,
 "nbformat_minor": 2
}
