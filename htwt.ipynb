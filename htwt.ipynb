{
 "metadata": {
  "language_info": {
   "codemirror_mode": {
    "name": "ipython",
    "version": 3
   },
   "file_extension": ".py",
   "mimetype": "text/x-python",
   "name": "python",
   "nbconvert_exporter": "python",
   "pygments_lexer": "ipython3",
   "version": "3.9.1-final"
  },
  "orig_nbformat": 2,
  "kernelspec": {
   "name": "python3",
   "display_name": "Python 3.9.1 64-bit",
   "metadata": {
    "interpreter": {
     "hash": "2fc03c4b318488f56c988a33764651c3da7041dbbc2c8128745c0fa2cb72f2ea"
    }
   }
  }
 },
 "nbformat": 4,
 "nbformat_minor": 2,
 "cells": [
  {
   "cell_type": "code",
   "execution_count": 1,
   "metadata": {},
   "outputs": [],
   "source": [
    "import pandas as pd\n",
    "import numpy as np"
   ]
  },
  {
   "cell_type": "code",
   "execution_count": 2,
   "metadata": {},
   "outputs": [],
   "source": [
    "player      = pd.read_csv(\"player.csv\")\n",
    "match       = pd.read_csv(\"match_w_discrete_cleaned.csv\")\n",
    "match_30    = pd.read_csv(\"match_w_discrete_cleaned_drop30.csv\")\n",
    "player_att  = pd.read_csv(\"player_att_with_endtime.csv\")\n",
    "to_drop     = [ 'attacking_work_rate_None', \n",
    "                'attacking_work_rate_le', \n",
    "                'attacking_work_rate_norm',\n",
    "                'attacking_work_rate_stoc', \n",
    "                'attacking_work_rate_y', \n",
    "                'defensive_work_rate__0',\n",
    "                'defensive_work_rate_5', \n",
    "                'defensive_work_rate_ean', \n",
    "                'defensive_work_rate_o', \n",
    "                'defensive_work_rate_1', \n",
    "                'defensive_work_rate_ormal', \n",
    "                'defensive_work_rate_7', \n",
    "                'defensive_work_rate_2', \n",
    "                'defensive_work_rate_8', \n",
    "                'defensive_work_rate_4', \n",
    "                'defensive_work_rate_tocky',\n",
    "                'defensive_work_rate_0', \n",
    "                'defensive_work_rate_3', \n",
    "                'defensive_work_rate_6', \n",
    "                'defensive_work_rate_9', \n",
    "                'defensive_work_rate_es'    ]\n",
    "to_drop     = ['h_' + lab for lab in to_drop] + ['a_' + lab for lab in to_drop]\n",
    "ht_wt       = ['h_height', 'h_weight', 'a_height', 'a_weight']\n",
    "for lab in ht_wt:\n",
    "    match[lab] = ''\n",
    "    match_30[lab] = ''"
   ]
  },
  {
   "cell_type": "code",
   "execution_count": 3,
   "metadata": {},
   "outputs": [],
   "source": [
    "def add_ht_wt(row):\n",
    "    date = row['date']\n",
    "    h_players = [player for player in row.iloc[10:21] if player == player]\n",
    "    h = player[player['player_id'].isin(h_players)].iloc[:,3:]\n",
    "    h = h.add_prefix('h_')\n",
    "    h_out = h.mean(axis=0)\n",
    "\n",
    "    a_players = [player for player in row.iloc[21:32] if player == player]\n",
    "    a = player[player['player_id'].isin(a_players)].iloc[:,3:]\n",
    "    a = a.add_prefix('a_')\n",
    "    a_out = a.mean(axis=0)\n",
    "    return h_out.append(a_out)"
   ]
  },
  {
   "cell_type": "code",
   "execution_count": 4,
   "metadata": {
    "tags": []
   },
   "outputs": [],
   "source": [
    "match = match.drop(to_drop, axis=1)\n",
    "match[ht_wt] = match.apply(add_ht_wt, axis=1, result_type='expand')\n",
    "match.to_csv(\"match_discrete_htwt.csv\")\n",
    "match_30 = match_30.drop(to_drop, axis=1)\n",
    "match_30[ht_wt] = match_30.apply(add_ht_wt, axis=1, result_type = 'expand')\n",
    "match_30.to_csv(\"match_discrete_htwt_drop30.csv\")"
   ]
  }
 ]
}