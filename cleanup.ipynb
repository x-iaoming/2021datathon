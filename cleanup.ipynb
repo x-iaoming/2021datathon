{
 "metadata": {
  "language_info": {
   "codemirror_mode": {
    "name": "ipython",
    "version": 3
   },
   "file_extension": ".py",
   "mimetype": "text/x-python",
   "name": "python",
   "nbconvert_exporter": "python",
   "pygments_lexer": "ipython3",
   "version": "3.9.1-final"
  },
  "orig_nbformat": 2,
  "kernelspec": {
   "name": "python3",
   "display_name": "Python 3.9.1 64-bit",
   "metadata": {
    "interpreter": {
     "hash": "2fc03c4b318488f56c988a33764651c3da7041dbbc2c8128745c0fa2cb72f2ea"
    }
   }
  }
 },
 "nbformat": 4,
 "nbformat_minor": 2,
 "cells": [
  {
   "cell_type": "code",
   "execution_count": 1,
   "metadata": {},
   "outputs": [],
   "source": [
    "import pandas as pd\n",
    "import numpy as np\n",
    "import matplotlib.pyplot as plt "
   ]
  },
  {
   "cell_type": "code",
   "execution_count": 2,
   "metadata": {},
   "outputs": [],
   "source": [
    "country     = pd.read_csv(\"country.csv\")\n",
    "league      = pd.read_csv(\"league.csv\")\n",
    "match       = pd.read_csv(\"match.csv\")\n",
    "match['date']  = pd.to_datetime(match['date'])\n",
    "match = match[match.isnull().sum(axis=1) < 23]\n",
    "ptemp       = pd.read_csv(\"player_attributes.csv\") \n",
    "ptemp = ptemp.drop_duplicates(subset=['player_id', 'date'])\n",
    "ptemp['date']  = pd.to_datetime(ptemp['date']) # add ending date/time for which player info is valid\n",
    "player_att  = ptemp.assign(next_date=ptemp.groupby('player_id').date.shift(1))\n",
    "player_att.to_csv(\"player_att__with_endtime.csv\")\n",
    "player      = pd.read_csv(\"player.csv\")\n",
    "ttemp       = pd.read_csv(\"team_attributes.csv\")  \n",
    "ttemp['date']  = pd.to_datetime(ttemp['date'])  # add ending date/time for which team info is valid\n",
    "team_att    = ttemp.assign(next_date=ttemp.groupby('team_id').date.shift(-1))\n",
    "team_att.to_csv(\"team_att_with_endtime.csv\")\n",
    "team        = pd.read_csv(\"team.csv\")"
   ]
  },
  {
   "cell_type": "code",
   "execution_count": 3,
   "metadata": {},
   "outputs": [],
   "source": [
    "t_att_lab = [att for att in team_att.columns[2:-1]]\n",
    "ht_lab = ['h_' + att for att in t_att_lab]\n",
    "at_lab = ['a_' + att for att in t_att_lab]\n",
    "p_att_lab = [att for att in player_att.loc[:,'overall_rating':'next_date'].select_dtypes(\"float64\")]\n",
    "p_att_list = ['h_' + att for att in p_att_lab]\n",
    "p_att_list.extend(['a_' + att for att in p_att_lab])\n",
    "for att in ht_lab:\n",
    "    match[att] = ''\n",
    "for att in at_lab:\n",
    "    match[att] = ''\n",
    "for att in p_att_list:\n",
    "    match[att] = ''"
   ]
  },
  {
   "cell_type": "code",
   "execution_count": 4,
   "metadata": {},
   "outputs": [],
   "source": [
    "def calc_player_info(row):\n",
    "    date = row['date']\n",
    "    h_players = [player for player in row.iloc[10:21] if player == player]\n",
    "    h = player_att[player_att['player_id'].isin(h_players)]\n",
    "    h = h[(h['date'] < date) & ((h['next_date'] != h['next_date']) | (h['next_date'] > date))][p_att_lab]\n",
    "    h = h.add_prefix('h_')\n",
    "    h_out = h.mean(axis=0)\n",
    "\n",
    "    a_players = [player for player in row.iloc[21:32] if player == player]\n",
    "    a = player_att[player_att['player_id'].isin(a_players)]\n",
    "    a = a[(a['date'] < date) & ((a['next_date'] != a['next_date']) | (a['next_date'] > date))][p_att_lab]\n",
    "    a = a.add_prefix('a_')\n",
    "    a_out = a.mean(axis=0)\n",
    "    return h_out.append(a_out)\n",
    "\n",
    "def calc_h_team(row):\n",
    "    date = row['date']\n",
    "    hteam = team_att[team_att['team_id'] == row['home_team_id']]\n",
    "    hteam = hteam[(hteam['date'] <= date) & ((hteam['next_date'] != hteam['next_date']) | (hteam['next_date'] > date))][t_att_lab]\n",
    "    hteam.columns = ['h_' + col for col in hteam.columns]\n",
    "    if hteam.shape[0] > 0:\n",
    "        return hteam.iloc[0].squeeze()\n",
    "    else: \n",
    "        return [np.nan] * len(t_att_lab)\n",
    "\n",
    "def calc_a_team(row):\n",
    "    date = row['date']\n",
    "    ateam = team_att[team_att['team_id'] == row['away_team_id']]\n",
    "    ateam = ateam[(ateam['date'] < date) & ((ateam['next_date'] != ateam['next_date']) | (ateam['next_date'] > date))][t_att_lab]\n",
    "    ateam.columns = ['a_' + col for col in ateam.columns]\n",
    "    if ateam.shape[0] > 0:\n",
    "        return ateam.iloc[0].squeeze()\n",
    "    else:\n",
    "        return [np.nan] * len(t_att_lab)"
   ]
  },
  {
   "cell_type": "code",
   "execution_count": 5,
   "metadata": {
    "tags": []
   },
   "outputs": [
    {
     "output_type": "stream",
     "name": "stdout",
     "text": [
      "Home Team labels applied.\n",
      "Away Team labels applied.\n",
      "1000\n",
      "2000\n",
      "3000\n",
      "4000\n",
      "5000\n",
      "6000\n",
      "7000\n",
      "8000\n",
      "9000\n",
      "10000\n",
      "11000\n",
      "12000\n",
      "13000\n",
      "14000\n",
      "15000\n",
      "18000\n",
      "19000\n",
      "20000\n",
      "21000\n",
      "22000\n",
      "23000\n",
      "24000\n",
      "Player labels applied.\n"
     ]
    }
   ],
   "source": [
    "match[ht_lab] = match.apply(calc_h_team, axis=1, result_type='expand')\n",
    "print(\"Home Team labels applied.\")\n",
    "match[at_lab] = match.apply(calc_a_team, axis=1, result_type='expand')\n",
    "print(\"Away Team labels applied.\")\n",
    "match[p_att_list] = match.apply(calc_player_info, axis=1)\n",
    "print(\"Player labels applied.\")\n",
    "match.to_csv(f\"match_cleaned.csv\")\n",
    "match = match[match.isnull().sum(axis=1) < 30]\n",
    "match.to_csv(f\"match_cleaned_drop30.csv\")"
   ]
  }
 ]
}