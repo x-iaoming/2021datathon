{
 "metadata": {
  "language_info": {
   "codemirror_mode": {
    "name": "ipython",
    "version": 3
   },
   "file_extension": ".py",
   "mimetype": "text/x-python",
   "name": "python",
   "nbconvert_exporter": "python",
   "pygments_lexer": "ipython3",
   "version": "3.9.1-final"
  },
  "orig_nbformat": 2,
  "kernelspec": {
   "name": "python3",
   "display_name": "Python 3.9.1 64-bit",
   "metadata": {
    "interpreter": {
     "hash": "2fc03c4b318488f56c988a33764651c3da7041dbbc2c8128745c0fa2cb72f2ea"
    }
   }
  }
 },
 "nbformat": 4,
 "nbformat_minor": 2,
 "cells": [
  {
   "cell_type": "code",
   "execution_count": 2,
   "metadata": {},
   "outputs": [],
   "source": [
    "import pandas as pd\n",
    "import numpy as np\n",
    "import matplotlib.pyplot as plt "
   ]
  },
  {
   "cell_type": "code",
   "execution_count": 3,
   "metadata": {},
   "outputs": [],
   "source": [
    "country     = pd.read_csv(\"country.csv\")\n",
    "league      = pd.read_csv(\"league.csv\")\n",
    "match       = pd.read_csv(\"match.csv\")\n",
    "match['date']  = pd.to_datetime(match['date'])\n",
    "ptemp       = pd.read_csv(\"player_attributes.csv\") \n",
    "ptemp['date']  = pd.to_datetime(ptemp['date']) # add ending date/time for which player info is valid\n",
    "player_att  = ptemp.assign(next_date=ptemp.groupby('player_id').date.shift(1))\n",
    "player      = pd.read_csv(\"player.csv\")\n",
    "ttemp       = pd.read_csv(\"team_attributes.csv\")  \n",
    "ttemp['date']  = pd.to_datetime(ttemp['date'])  # add ending date/time for which team info is valid\n",
    "team_att    = ttemp.assign(next_date=ttemp.groupby('team_id').date.shift(-1))\n",
    "team        = pd.read_csv(\"team.csv\")"
   ]
  },
  {
   "cell_type": "code",
   "execution_count": 4,
   "metadata": {},
   "outputs": [],
   "source": [
    "def get_att(attribute, date, name):\n",
    "    # Go to player_att, find attribute entry on row with name and contains date\n",
    "    name_check = player_att['player_id'] == name\n",
    "    history = player_att[['date', attribute, 'next_date']][name_check]\n",
    "    date_check = (history['date'] < date) & ((history['next_date'] != history['next_date']) | (history['next_date'] > date))\n",
    "    history = history[date_check]\n",
    "    if history.empty: return np.nan\n",
    "    return history[attribute].iloc[0]\n",
    "\n",
    "def avg_func(row, attribute):\n",
    "    date = row['date']\n",
    "    vals = [get_att(attribute, date, row[player]) for player in row.index[1:12] if row[player] == row[player]]\n",
    "    vals = [x for x in vals if x == x]\n",
    "    # prevent division by 0 for empty lists\n",
    "    if (len(vals) == 0): return np.nan\n",
    "    return sum(vals)/len(vals)\n",
    "\n",
    "def calc_player_info(team, attribute, start_time, end_time):\n",
    "    # create home and away dataframes containing matches within stated time interval\n",
    "    rel_home = match[(match['home_team_id'] == team)]\n",
    "    rel_home = rel_home[(rel_home['date'] != rel_home['date']) | ((rel_home['date'] > start_time) & (rel_home['date'] < end_time))]\n",
    "    rel_home = rel_home.iloc[:, np.r_[4, 10:21]]\n",
    "    rel_away = match[(match['away_team_id'] == team)]\n",
    "    rel_away = rel_away[(rel_away['date'] != rel_away['date']) | ((rel_away['date'] > start_time) & (rel_away['date'] < end_time))]\n",
    "    rel_away = rel_away.iloc[:, np.r_[4, 21:32]]\n",
    "\n",
    "    # pull a df of players in set\n",
    "    rel_home['out'] = ''\n",
    "    rel_away['out'] = ''\n",
    "    rel_home['out'] = rel_home.apply(lambda x: avg_func(x, attribute), axis=1)\n",
    "    rel_away['out'] = rel_away.apply(lambda x: avg_func(x, attribute), axis=1)\n",
    "    return (rel_home['out'].mean() + rel_away['out'].mean())/2"
   ]
  },
  {
   "cell_type": "code",
   "execution_count": 5,
   "metadata": {
    "tags": []
   },
   "outputs": [
    {
     "output_type": "stream",
     "name": "stdout",
     "text": [
      "['overall_rating', 'potential', 'crossing', 'finishing', 'heading_accuracy', 'short_passing', 'volleys', 'dribbling', 'curve', 'free_kick_accuracy', 'long_passing', 'ball_control', 'acceleration', 'sprint_speed', 'agility', 'reactions', 'balance', 'shot_power', 'jumping', 'stamina', 'strength', 'long_shots', 'aggression', 'interceptions', 'positioning', 'vision', 'penalties', 'marking', 'standing_tackle', 'sliding_tackle', 'gk_diving', 'gk_handling', 'gk_kicking', 'gk_positioning', 'gk_reflexes']\n",
      "one run\n",
      "one run\n",
      "one run\n",
      "one run\n",
      "one run\n",
      "one run\n",
      "one run\n",
      "one run\n",
      "one run\n",
      "one run\n",
      "one run\n",
      "one run\n",
      "one run\n",
      "one run\n",
      "one run\n",
      "one run\n",
      "one run\n",
      "one run\n",
      "one run\n",
      "one run\n",
      "one run\n",
      "one run\n"
     ]
    }
   ],
   "source": [
    "num_attributes = [att for att in player_att.select_dtypes('float64')]\n",
    "print(num_attributes)\n",
    "for att in num_attributes:\n",
    "    team_att[att] = team_att.apply(lambda x: calc_player_info(x['team_id'], att, x['date'], x['next_date']), axis=1)\n",
    "    print(\"Completed attribute: \", att)\n",
    "    team_att.to_csv(f\"team_attributes_{attributes}\")"
   ]
  }
 ]
}