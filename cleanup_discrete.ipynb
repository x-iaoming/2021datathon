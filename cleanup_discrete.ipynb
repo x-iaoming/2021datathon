{
 "metadata": {
  "language_info": {
   "codemirror_mode": {
    "name": "ipython",
    "version": 3
   },
   "file_extension": ".py",
   "mimetype": "text/x-python",
   "name": "python",
   "nbconvert_exporter": "python",
   "pygments_lexer": "ipython3",
   "version": "3.9.1-final"
  },
  "orig_nbformat": 2,
  "kernelspec": {
   "name": "python3",
   "display_name": "Python 3.9.1 64-bit",
   "metadata": {
    "interpreter": {
     "hash": "2fc03c4b318488f56c988a33764651c3da7041dbbc2c8128745c0fa2cb72f2ea"
    }
   }
  }
 },
 "nbformat": 4,
 "nbformat_minor": 2,
 "cells": [
  {
   "cell_type": "code",
   "execution_count": 1,
   "metadata": {},
   "outputs": [],
   "source": [
    "import pandas as pd\n",
    "import numpy as np\n",
    "import matplotlib.pyplot as plt"
   ]
  },
  {
   "cell_type": "code",
   "execution_count": 2,
   "metadata": {},
   "outputs": [],
   "source": [
    "match       = pd.read_csv(\"match_cleaned.csv\")\n",
    "match_30    = pd.read_csv(\"match_cleaned_drop30.csv\")\n",
    "player_att  = pd.read_csv(\"player_att_with_endtime.csv\")\n",
    "team_att    = pd.read_csv(\"team_att_with_endtime.csv\")\n",
    "p_discrete = ['preferred_foot', 'attacking_work_rate', 'defensive_work_rate']\n",
    "unique_vals = { 'preferred_foot': ['right', 'left'],\n",
    "                'attacking_work_rate': ['medium', 'high', 'low'],\n",
    "                'defensive_work_rate': ['medium', 'high', 'low']  }\n",
    "disc_labs = [ lab + '_' + str(val) for lab in p_discrete for val in unique_vals[lab] if val == val ]\n",
    "disc_labs = [ 'h_' + lab for lab in disc_labs ] + [ 'a_' + lab for lab in disc_labs ]\n",
    "for lab in disc_labs:\n",
    "    match[lab] = ''"
   ]
  },
  {
   "cell_type": "code",
   "execution_count": 3,
   "metadata": {},
   "outputs": [],
   "source": [
    "def calc_disc(row):\n",
    "    date = row['date']\n",
    "    h_players = [player for player in row.iloc[10:21] if player == player]\n",
    "    h = player_att[player_att['player_id'].isin(h_players)]\n",
    "    h = h[(h['date'] < date) & ((h['next_date'] != h['next_date']) | (h['next_date'] > date))]\n",
    "    h_out = []\n",
    "    for lab in p_discrete:\n",
    "        h_temp = h[lab].value_counts(normalize=True)*100\n",
    "        h_out.extend([ h_temp[val] if (val in h_temp.index) else np.nan for val in unique_vals[lab] if val == val ])\n",
    "\n",
    "    a_players = [player for player in row.iloc[21:32] if player == player]\n",
    "    a = player_att[player_att['player_id'].isin(a_players)]\n",
    "    a = a[(a['date'] < date) & ((a['next_date'] != a['next_date']) | (a['next_date'] > date))][p_discrete]\n",
    "    a_out = []\n",
    "    for lab in p_discrete:\n",
    "        a_temp = a[lab].value_counts(normalize=True)*100\n",
    "        a_out.extend([ a_temp[val] if (val in a_temp.index) else np.nan for val in unique_vals[lab] if val == val ])\n",
    "    return h_out + a_out"
   ]
  },
  {
   "cell_type": "code",
   "execution_count": 4,
   "metadata": {
    "tags": []
   },
   "outputs": [],
   "source": [
    "match[disc_labs] = match.apply(calc_disc, axis=1, result_type='expand')\n",
    "match.to_csv(\"match_w_discrete_cleaned.csv\")\n",
    "match_30[disc_labs] = match_30.apply(calc_disc, axis=1, result_type='expand')\n",
    "match_30.to_csv(\"match_w_discrete_cleaned_drop30.csv\")"
   ]
  }
 ]
}