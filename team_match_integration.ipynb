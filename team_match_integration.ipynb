{
 "metadata": {
  "language_info": {
   "codemirror_mode": {
    "name": "ipython",
    "version": 3
   },
   "file_extension": ".py",
   "mimetype": "text/x-python",
   "name": "python",
   "nbconvert_exporter": "python",
   "pygments_lexer": "ipython3",
   "version": "3.9.1-final"
  },
  "orig_nbformat": 2,
  "kernelspec": {
   "name": "python3",
   "display_name": "Python 3.9.1 64-bit",
   "metadata": {
    "interpreter": {
     "hash": "2fc03c4b318488f56c988a33764651c3da7041dbbc2c8128745c0fa2cb72f2ea"
    }
   }
  }
 },
 "nbformat": 4,
 "nbformat_minor": 2,
 "cells": [
  {
   "cell_type": "code",
   "execution_count": 5,
   "metadata": {},
   "outputs": [],
   "source": [
    "import pandas as pd\n",
    "import numpy as np"
   ]
  },
  {
   "cell_type": "code",
   "execution_count": 6,
   "metadata": {},
   "outputs": [],
   "source": [
    "ttemp       = pd.read_csv(\"team_att_w_cluster.csv\")  \n",
    "ttemp['date']  = pd.to_datetime(ttemp['date'])  # add ending date/time for which team info is valid\n",
    "team_att    = ttemp.assign(next_date=ttemp.groupby('team_id').date.shift(-1))\n",
    "match       = pd.read_csv(\"match_discrete_htwt.csv\")\n",
    "match['date']  = pd.to_datetime(match['date'])\n",
    "player_att  = pd.read_csv(\"player_att_with_endtime.csv\")\n",
    "\n",
    "cont_att    = [att for att in player_att.loc[:,'overall_rating':'next_date'].select_dtypes(\"float64\")]\n",
    "disc_att    = [ 'preferred_foot_right',\n",
    "                'preferred_foot_left',\n",
    "                'attacking_work_rate_medium',\n",
    "                'attacking_work_rate_high',\n",
    "                'attacking_work_rate_low',\n",
    "                'defensive_work_rate_medium',\n",
    "                'defensive_work_rate_high',\n",
    "                'defensive_work_rate_low' ]\n",
    "htwt        = ['height', 'weight']\n",
    "atts        = cont_att + disc_att + htwt\n",
    "\n",
    "# Update as hometeam \n",
    "for att in atts:\n",
    "    team_att['h_' + att] = ''\n",
    "h_atts = ['h_' + att for att in atts]\n",
    "\n",
    "# Update as awayteam\n",
    "for att in atts:\n",
    "    team_att['a_' + att] = ''\n",
    "a_atts = ['a_' + att for att in atts]"
   ]
  },
  {
   "cell_type": "code",
   "execution_count": 7,
   "metadata": {},
   "outputs": [],
   "source": [
    "def collate_h_info(row):\n",
    "    date = row['next_date']\n",
    "    h_matches = match[match['home_team_id'] == row['team_id']]\n",
    "    h_matches = h_matches[(h_matches['date'] >= row['date']) & ((date != date) | (h_matches['date'] < date))]\n",
    "    h_matches = h_matches[h_atts]\n",
    "    return h_matches.mean(axis=0)\n",
    "    \n",
    "def collate_a_info(row):\n",
    "    date = row['next_date']\n",
    "    a_matches = match[match['away_team_id'] == row['team_id']]\n",
    "    a_matches = a_matches[(a_matches['date'] >= row['date']) & ((date != date) | (a_matches['date'] < date))]\n",
    "    a_matches = a_matches[a_atts]\n",
    "    return a_matches.mean(axis=0)"
   ]
  },
  {
   "cell_type": "code",
   "execution_count": 8,
   "metadata": {},
   "outputs": [],
   "source": [
    "team_att[h_atts] = team_att.apply(collate_h_info, axis=1, result_type='expand')\n",
    "team_att[a_atts] = team_att.apply(collate_a_info, axis=1, result_type='expand')\n",
    "team_att.to_csv(\"team_att_cluster_endtime_collated.csv\")"
   ]
  }
 ]
}