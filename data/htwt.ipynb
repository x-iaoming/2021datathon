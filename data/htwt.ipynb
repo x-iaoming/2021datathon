{
 "cells": [
  {
   "cell_type": "code",
   "execution_count": 5,
   "metadata": {},
   "outputs": [],
   "source": [
    "import pandas as pd\n",
    "import numpy as np"
   ]
  },
  {
   "cell_type": "code",
   "execution_count": 6,
   "metadata": {},
   "outputs": [],
   "source": [
    "player      = pd.read_csv(\"player.csv\")\n",
    "match       = pd.read_csv(\"match_w_discrete_cleaned.csv\")\n",
    "match_30    = pd.read_csv(\"match_w_discrete_cleaned_drop30.csv\")\n",
    "player_att  = pd.read_csv(\"player_att_with_endtime.csv\")\n",
    "ht_wt       = ['h_height', 'h_weight', 'a_height', 'a_weight']\n",
    "for lab in ht_wt:\n",
    "    match[lab] = ''\n",
    "    match_30[lab] = ''\n",
    "disc_labels = { 'h_attacking_sum' : ['h_attacking_work_rate_medium', 'h_attacking_work_rate_high', 'h_attacking_work_rate_low'],\n",
    "                'h_defensive_sum' : ['h_defensive_work_rate_medium', 'h_defensive_work_rate_high', 'h_defensive_work_rate_low'],\n",
    "                'a_attacking_sum' : ['a_attacking_work_rate_medium', 'a_attacking_work_rate_high', 'a_attacking_work_rate_low'],\n",
    "                'a_defensive_sum' : ['a_defensive_work_rate_medium', 'a_defensive_work_rate_high', 'a_defensive_work_rate_low']}"
   ]
  },
  {
   "cell_type": "code",
   "execution_count": 7,
   "metadata": {},
   "outputs": [],
   "source": [
    "def add_ht_wt(row):\n",
    "    date = row['date']\n",
    "    h_players = [player for player in row.iloc[10:21] if player == player]\n",
    "    h = player[player['player_id'].isin(h_players)].iloc[:,3:]\n",
    "    h = h.add_prefix('h_')\n",
    "    h_out = h.mean(axis=0)\n",
    "\n",
    "    a_players = [player for player in row.iloc[21:32] if player == player]\n",
    "    a = player[player['player_id'].isin(a_players)].iloc[:,3:]\n",
    "    a = a.add_prefix('a_')\n",
    "    a_out = a.mean(axis=0)\n",
    "    return h_out.append(a_out)"
   ]
  },
  {
   "cell_type": "code",
   "execution_count": 8,
   "metadata": {
    "tags": []
   },
   "outputs": [],
   "source": [
    "match[ht_wt] = match.apply(add_ht_wt, axis=1, result_type='expand')\n",
    "for lab in disc_labels:\n",
    "    match[lab] = match[disc_labels[lab]].sum(axis=1)\n",
    "    for att in disc_labels[lab]:\n",
    "        match[att] = match[att] / match[lab]\n",
    "match.to_csv(\"match_discrete_htwt.csv\")\n",
    "match_30[ht_wt] = match_30.apply(add_ht_wt, axis=1, result_type = 'expand')\n",
    "for lab in disc_labels:\n",
    "    match_30[lab] = match_30[disc_labels[lab]].sum(axis=1)\n",
    "    for att in disc_labels[lab]:\n",
    "        match_30[att] = match_30[att] / match_30[lab]\n",
    "match_30.to_csv(\"match_discrete_htwt_drop30.csv\")"
   ]
  }
 ],
 "metadata": {
  "kernelspec": {
   "display_name": "Python 3",
   "language": "python",
   "name": "python3"
  },
  "language_info": {
   "codemirror_mode": {
    "name": "ipython",
    "version": 3
   },
   "file_extension": ".py",
   "mimetype": "text/x-python",
   "name": "python",
   "nbconvert_exporter": "python",
   "pygments_lexer": "ipython3",
   "version": "3.7.9"
  }
 },
 "nbformat": 4,
 "nbformat_minor": 2
}
